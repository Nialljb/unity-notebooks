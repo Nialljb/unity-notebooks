{
 "cells": [
  {
   "cell_type": "markdown",
   "id": "4bf54528-0d9b-4086-a012-b437efce0609",
   "metadata": {
    "tags": []
   },
   "source": [
    "## 🧼 DICOM PHI Cleanup Script Documentation\n",
    "Niall Bourke     \n",
    "24-4-25     \n",
    "\n",
    "This notebook processes and anonymizes DICOM files within a Flywheel project. Specifically, it removes Protected Health Information (PHI) fields such as `PatientName`, then re-uploads the cleaned file to the same acquisition, replacing the original.\n",
    "\n",
    "---\n",
    "\n",
    "### 🔧 Prerequisites\n",
    "\n",
    "- Access to a **Flywheel-hosted Jupyter Lab** environment or local Python session with `flywheel`, `pydicom`, and `pathlib` installed.\n",
    "- You must already be authenticated to Flywheel and have access to the desired project.\n",
    "- The helper function `clean_and_replace_dicom()` must be defined in a previous cell. This function:\n",
    "  - Removes PHI fields from a DICOM file (e.g., `PatientName`)\n",
    "  - Replaces the file in Flywheel with a cleaned version\n",
    "  - Optionally deletes the local temp file\n",
    "\n",
    "---\n",
    "\n",
    "### 🔁 Overview of Workflow\n",
    "\n",
    "This script performs the following steps:\n",
    "\n",
    "1. **Set up working directories**:\n",
    "   - A `~/Data/` directory is created to store DICOM files temporarily during processing.\n",
    "\n",
    "2. **Loop through sessions, acquisitions, and files**:\n",
    "   - For each DICOM file:\n",
    "     - Downloads it to a subject/session-specific folder under `~/Data/`\n",
    "     - Calls `clean_and_replace_dicom()` to:\n",
    "       - Strip PHI from the file\n",
    "       - Re-upload the cleaned file\n",
    "       - Delete the original file from the acquisition\n",
    "\n",
    "3. **Tracks and prints runtime** for performance monitoring.\n",
    "\n",
    "---\n",
    "\n",
    "### ⚠️ Notes & Best Practices\n",
    "\n",
    "- **PHI Removal**: This example removes only `PatientBirthDate`. For full compliance, you may wish to expand it to include other PHI DICOM tags (e.g., `PatientName`, `InstitutionName`, etc.).\n",
    "- **Safety**: Re-uploading the file will **permanently replace** the original — be sure to back up data if needed.\n",
    "- **Avoiding Private Methods**: This script uses `acq.delete_file()` instead of `fw._fw.delete_acquisition_file()`, which is discouraged since it relies on Flywheel's internal\n"
   ]
  },
  {
   "cell_type": "markdown",
   "id": "0d53743c-0936-498e-a40a-a228e609abad",
   "metadata": {},
   "source": [
    "### Install required packages"
   ]
  },
  {
   "cell_type": "code",
   "execution_count": 2,
   "id": "7b121ea6-fc23-441b-8dc9-10c0b49cb757",
   "metadata": {
    "tags": []
   },
   "outputs": [
    {
     "name": "stdout",
     "output_type": "stream",
     "text": [
      "Collecting pydicom\n",
      "  Downloading pydicom-3.0.1-py3-none-any.whl (2.4 MB)\n",
      "\u001b[2K     \u001b[90m━━━━━━━━━━━━━━━━━━━━━━━━━━━━━━━━━━━━━━━━\u001b[0m \u001b[32m2.4/2.4 MB\u001b[0m \u001b[31m47.0 MB/s\u001b[0m eta \u001b[36m0:00:00\u001b[0ma \u001b[36m0:00:01\u001b[0m\n",
      "\u001b[?25hInstalling collected packages: pydicom\n",
      "Successfully installed pydicom-3.0.1\n",
      "Note: you may need to restart the kernel to use updated packages.\n"
     ]
    }
   ],
   "source": [
    "pip install pydicom"
   ]
  },
  {
   "cell_type": "markdown",
   "id": "9542379d-58fb-4c16-a8b9-0c1f56d766e4",
   "metadata": {},
   "source": [
    "### Function for cleaning PHI\n",
    "- reads dicom headers\n",
    "- if field exists, deletes it\n",
    "- deletes existing file on FW\n",
    "- uploads new version without PHI field"
   ]
  },
  {
   "cell_type": "code",
   "execution_count": 3,
   "id": "0950eeab-4ddf-438a-bf79-689761c77b17",
   "metadata": {
    "tags": []
   },
   "outputs": [],
   "source": [
    "logging.basicConfig(level=logging.INFO)\n",
    "logger = logging.getLogger(__name__)\n",
    "\n",
    "def clean_and_replace_dicom(acq, file, download_path):\n",
    "    \"\"\"\n",
    "    Remove PHI tags from a DICOM file and re-upload it to the Flywheel acquisition.\n",
    "    \n",
    "    Args:\n",
    "        acq: Flywheel acquisition object\n",
    "        file: Flywheel file object associated with the acquisition\n",
    "        download_path: Local path to the downloaded file\n",
    "    \"\"\"\n",
    "    try:\n",
    "        ds = pydicom.dcmread(download_path)\n",
    "\n",
    "        if 'PatientBirthDate' in ds:\n",
    "            logger.info(f\"Removing PatientBirthDate: {ds.PatientBirthDate}\")\n",
    "            del ds.PatientBirthDate\n",
    "\n",
    "            # Save the cleaned file\n",
    "            ds.save_as(download_path)\n",
    "\n",
    "            # Remove original file\n",
    "            acq.delete_file(file.name)\n",
    "\n",
    "            # Upload the cleaned file\n",
    "            acq.upload_file(download_path)\n",
    "            logger.info(f\"Re-uploaded cleaned file: {file.name}\")\n",
    "        else:\n",
    "            logger.info(\"PatientBirthDate tag not found, skipping.\")\n",
    "\n",
    "    except Exception as e:\n",
    "        logger.error(f\"Failed to clean {file.name}: {e}\")\n",
    "        \n",
    "        "
   ]
  },
  {
   "cell_type": "markdown",
   "id": "73173f47-d4ed-48ba-a3ab-9ff57b385504",
   "metadata": {},
   "source": [
    "### Loop to find files in project to clean"
   ]
  },
  {
   "cell_type": "code",
   "execution_count": null,
   "id": "4d441473-51a8-472a-8836-be0364aa086b",
   "metadata": {
    "tags": []
   },
   "outputs": [
    {
     "name": "stdout",
     "output_type": "stream",
     "text": [
      "T2 (AXI).zip\n",
      "Downloading T2 (AXI).zip to /home/jovyan/Data/PHYSICS_CB/06-16-22 2_18 PM/T2 (AXI).zip\n"
     ]
    },
    {
     "name": "stderr",
     "output_type": "stream",
     "text": [
      "ERROR:__main__:Failed to clean T2 (AXI).zip: File is missing DICOM File Meta Information header or the 'DICM' prefix is missing from the header. Use force=True to force reading.\n"
     ]
    },
    {
     "name": "stdout",
     "output_type": "stream",
     "text": [
      "T2-Weighted FSE (SAG).zip\n",
      "Downloading T2-Weighted FSE (SAG).zip to /home/jovyan/Data/PHYSICS_CB/06-16-22 2_18 PM/T2-Weighted FSE (SAG).zip\n"
     ]
    },
    {
     "name": "stderr",
     "output_type": "stream",
     "text": [
      "ERROR:__main__:Failed to clean T2-Weighted FSE (SAG).zip: File is missing DICOM File Meta Information header or the 'DICM' prefix is missing from the header. Use force=True to force reading.\n"
     ]
    },
    {
     "name": "stdout",
     "output_type": "stream",
     "text": [
      "T2-Weighted FSE (COR).zip\n",
      "Downloading T2-Weighted FSE (COR).zip to /home/jovyan/Data/PHYSICS_CB/06-16-22 2_18 PM/T2-Weighted FSE (COR).zip\n"
     ]
    },
    {
     "name": "stderr",
     "output_type": "stream",
     "text": [
      "ERROR:__main__:Failed to clean T2-Weighted FSE (COR).zip: File is missing DICOM File Meta Information header or the 'DICM' prefix is missing from the header. Use force=True to force reading.\n"
     ]
    },
    {
     "name": "stdout",
     "output_type": "stream",
     "text": [
      "T2-Weighted FSE (COR) (DL)-NOT FOR DIAGNOSTIC USE.zip\n",
      "Downloading T2-Weighted FSE (COR) (DL)-NOT FOR DIAGNOSTIC USE.zip to /home/jovyan/Data/RTT05005/05-11-22 12_48 PM/T2-Weighted FSE (COR) (DL)-NOT FOR DIAGNOSTIC USE.zip\n"
     ]
    },
    {
     "name": "stderr",
     "output_type": "stream",
     "text": [
      "ERROR:__main__:Failed to clean T2-Weighted FSE (COR) (DL)-NOT FOR DIAGNOSTIC USE.zip: File is missing DICOM File Meta Information header or the 'DICM' prefix is missing from the header. Use force=True to force reading.\n"
     ]
    },
    {
     "name": "stdout",
     "output_type": "stream",
     "text": [
      "Localizer (Auto Align).zip\n",
      "Downloading Localizer (Auto Align).zip to /home/jovyan/Data/RTT05005/05-11-22 12_48 PM/Localizer (Auto Align).zip\n"
     ]
    },
    {
     "name": "stderr",
     "output_type": "stream",
     "text": [
      "ERROR:__main__:Failed to clean Localizer (Auto Align).zip: File is missing DICOM File Meta Information header or the 'DICM' prefix is missing from the header. Use force=True to force reading.\n"
     ]
    },
    {
     "name": "stdout",
     "output_type": "stream",
     "text": [
      "T1 (AXI) (DL)-NOT FOR DIAGNOSTIC USE.zip\n",
      "Downloading T1 (AXI) (DL)-NOT FOR DIAGNOSTIC USE.zip to /home/jovyan/Data/RTT05005/05-11-22 12_48 PM/T1 (AXI) (DL)-NOT FOR DIAGNOSTIC USE.zip\n"
     ]
    },
    {
     "name": "stderr",
     "output_type": "stream",
     "text": [
      "ERROR:__main__:Failed to clean T1 (AXI) (DL)-NOT FOR DIAGNOSTIC USE.zip: File is missing DICOM File Meta Information header or the 'DICM' prefix is missing from the header. Use force=True to force reading.\n"
     ]
    },
    {
     "name": "stdout",
     "output_type": "stream",
     "text": [
      "T2-Weighted FSE (SAG) (DL)-NOT FOR DIAGNOSTIC USE.zip\n",
      "Downloading T2-Weighted FSE (SAG) (DL)-NOT FOR DIAGNOSTIC USE.zip to /home/jovyan/Data/RTT05005/05-11-22 12_48 PM/T2-Weighted FSE (SAG) (DL)-NOT FOR DIAGNOSTIC USE.zip\n"
     ]
    },
    {
     "name": "stderr",
     "output_type": "stream",
     "text": [
      "ERROR:__main__:Failed to clean T2-Weighted FSE (SAG) (DL)-NOT FOR DIAGNOSTIC USE.zip: File is missing DICOM File Meta Information header or the 'DICM' prefix is missing from the header. Use force=True to force reading.\n"
     ]
    },
    {
     "name": "stdout",
     "output_type": "stream",
     "text": [
      "T2 (AXI) (DL)-NOT FOR DIAGNOSTIC USE.zip\n",
      "Downloading T2 (AXI) (DL)-NOT FOR DIAGNOSTIC USE.zip to /home/jovyan/Data/RTT05005/05-11-22 12_48 PM/T2 (AXI) (DL)-NOT FOR DIAGNOSTIC USE.zip\n"
     ]
    },
    {
     "name": "stderr",
     "output_type": "stream",
     "text": [
      "ERROR:__main__:Failed to clean T2 (AXI) (DL)-NOT FOR DIAGNOSTIC USE.zip: File is missing DICOM File Meta Information header or the 'DICM' prefix is missing from the header. Use force=True to force reading.\n"
     ]
    },
    {
     "name": "stdout",
     "output_type": "stream",
     "text": [
      "2 - Localizer (Auto Align).dicom\n",
      "Downloading 2 - Localizer (Auto Align).dicom to /home/jovyan/Data/RTT05005/2022-05-11 12_48_00/2 - Localizer (Auto Align).dicom\n"
     ]
    },
    {
     "name": "stderr",
     "output_type": "stream",
     "text": [
      "INFO:__main__:Removing PatientBirthDate: 20220102\n",
      "INFO:__main__:Re-uploaded cleaned file: 2 - Localizer (Auto Align).dicom\n"
     ]
    },
    {
     "name": "stdout",
     "output_type": "stream",
     "text": [
      "3 - T2 (AXI) (DL)-NOT FOR DIAGNOSTIC USE.dicom\n",
      "Downloading 3 - T2 (AXI) (DL)-NOT FOR DIAGNOSTIC USE.dicom to /home/jovyan/Data/RTT05005/2022-05-11 12_48_00/3 - T2 (AXI) (DL)-NOT FOR DIAGNOSTIC USE.dicom\n"
     ]
    },
    {
     "name": "stderr",
     "output_type": "stream",
     "text": [
      "INFO:__main__:Removing PatientBirthDate: 20220102\n",
      "INFO:__main__:Re-uploaded cleaned file: 3 - T2 (AXI) (DL)-NOT FOR DIAGNOSTIC USE.dicom\n"
     ]
    },
    {
     "name": "stdout",
     "output_type": "stream",
     "text": [
      "5 - T2-Weighted FSE (SAG) (DL)-NOT FOR DIAGNOSTIC USE.dicom\n",
      "Downloading 5 - T2-Weighted FSE (SAG) (DL)-NOT FOR DIAGNOSTIC USE.dicom to /home/jovyan/Data/RTT05005/2022-05-11 12_48_00/5 - T2-Weighted FSE (SAG) (DL)-NOT FOR DIAGNOSTIC USE.dicom\n"
     ]
    },
    {
     "name": "stderr",
     "output_type": "stream",
     "text": [
      "INFO:__main__:Removing PatientBirthDate: 20220102\n",
      "INFO:__main__:Re-uploaded cleaned file: 5 - T2-Weighted FSE (SAG) (DL)-NOT FOR DIAGNOSTIC USE.dicom\n"
     ]
    },
    {
     "name": "stdout",
     "output_type": "stream",
     "text": [
      "4 - T2-Weighted FSE (COR) (DL)-NOT FOR DIAGNOSTIC USE.dicom\n",
      "Downloading 4 - T2-Weighted FSE (COR) (DL)-NOT FOR DIAGNOSTIC USE.dicom to /home/jovyan/Data/RTT05005/2022-05-11 12_48_00/4 - T2-Weighted FSE (COR) (DL)-NOT FOR DIAGNOSTIC USE.dicom\n"
     ]
    },
    {
     "name": "stderr",
     "output_type": "stream",
     "text": [
      "INFO:__main__:Removing PatientBirthDate: 20220102\n",
      "INFO:__main__:Re-uploaded cleaned file: 4 - T2-Weighted FSE (COR) (DL)-NOT FOR DIAGNOSTIC USE.dicom\n"
     ]
    },
    {
     "name": "stdout",
     "output_type": "stream",
     "text": [
      "6 - T1 (AXI) (DL)-NOT FOR DIAGNOSTIC USE.dicom\n",
      "Downloading 6 - T1 (AXI) (DL)-NOT FOR DIAGNOSTIC USE.dicom to /home/jovyan/Data/RTT05005/2022-05-11 12_48_00/6 - T1 (AXI) (DL)-NOT FOR DIAGNOSTIC USE.dicom\n"
     ]
    },
    {
     "name": "stderr",
     "output_type": "stream",
     "text": [
      "INFO:__main__:Removing PatientBirthDate: 20220102\n",
      "INFO:__main__:Re-uploaded cleaned file: 6 - T1 (AXI) (DL)-NOT FOR DIAGNOSTIC USE.dicom\n"
     ]
    },
    {
     "name": "stdout",
     "output_type": "stream",
     "text": [
      "10 - FLAIR (COR)  (DL)-NOT FOR DIAGNOSTIC USE.dicom\n",
      "Downloading 10 - FLAIR (COR)  (DL)-NOT FOR DIAGNOSTIC USE.dicom to /home/jovyan/Data/OB0019/2022-05-17 11_33_02/10 - FLAIR (COR)  (DL)-NOT FOR DIAGNOSTIC USE.dicom\n"
     ]
    },
    {
     "name": "stderr",
     "output_type": "stream",
     "text": [
      "INFO:__main__:Removing PatientBirthDate: 20211105\n",
      "INFO:__main__:Re-uploaded cleaned file: 10 - FLAIR (COR)  (DL)-NOT FOR DIAGNOSTIC USE.dicom\n"
     ]
    },
    {
     "name": "stdout",
     "output_type": "stream",
     "text": [
      "11 - FLAIR (SAG)  (DL)-NOT FOR DIAGNOSTIC USE.dicom\n",
      "Downloading 11 - FLAIR (SAG)  (DL)-NOT FOR DIAGNOSTIC USE.dicom to /home/jovyan/Data/OB0019/2022-05-17 11_33_02/11 - FLAIR (SAG)  (DL)-NOT FOR DIAGNOSTIC USE.dicom\n"
     ]
    },
    {
     "name": "stderr",
     "output_type": "stream",
     "text": [
      "INFO:__main__:Removing PatientBirthDate: 20211105\n",
      "INFO:__main__:Re-uploaded cleaned file: 11 - FLAIR (SAG)  (DL)-NOT FOR DIAGNOSTIC USE.dicom\n"
     ]
    },
    {
     "name": "stdout",
     "output_type": "stream",
     "text": [
      "12 - DWI.dicom\n",
      "Downloading 12 - DWI.dicom to /home/jovyan/Data/OB0019/2022-05-17 11_33_02/12 - DWI.dicom\n"
     ]
    },
    {
     "name": "stderr",
     "output_type": "stream",
     "text": [
      "INFO:__main__:Removing PatientBirthDate: 20211105\n",
      "INFO:__main__:Re-uploaded cleaned file: 12 - DWI.dicom\n"
     ]
    },
    {
     "name": "stdout",
     "output_type": "stream",
     "text": [
      "12 - ADC mapping.dicom\n",
      "Downloading 12 - ADC mapping.dicom to /home/jovyan/Data/OB0019/2022-05-17 11_33_02/12 - ADC mapping.dicom\n"
     ]
    },
    {
     "name": "stderr",
     "output_type": "stream",
     "text": [
      "INFO:__main__:Removing PatientBirthDate: 20211105\n",
      "INFO:__main__:Re-uploaded cleaned file: 12 - ADC mapping.dicom\n"
     ]
    },
    {
     "name": "stdout",
     "output_type": "stream",
     "text": [
      "2 - Localizer (Auto Align).dicom\n",
      "Downloading 2 - Localizer (Auto Align).dicom to /home/jovyan/Data/OB0019/2022-05-17 11_33_02/2 - Localizer (Auto Align).dicom\n"
     ]
    },
    {
     "name": "stderr",
     "output_type": "stream",
     "text": [
      "INFO:__main__:Removing PatientBirthDate: 20211105\n",
      "INFO:__main__:Re-uploaded cleaned file: 2 - Localizer (Auto Align).dicom\n"
     ]
    },
    {
     "name": "stdout",
     "output_type": "stream",
     "text": [
      "4 - T2-Weighted FSE (COR) (DL)-NOT FOR DIAGNOSTIC USE.dicom\n",
      "Downloading 4 - T2-Weighted FSE (COR) (DL)-NOT FOR DIAGNOSTIC USE.dicom to /home/jovyan/Data/OB0019/2022-05-17 11_33_02/4 - T2-Weighted FSE (COR) (DL)-NOT FOR DIAGNOSTIC USE.dicom\n"
     ]
    },
    {
     "name": "stderr",
     "output_type": "stream",
     "text": [
      "INFO:__main__:Removing PatientBirthDate: 20211105\n",
      "INFO:__main__:Re-uploaded cleaned file: 4 - T2-Weighted FSE (COR) (DL)-NOT FOR DIAGNOSTIC USE.dicom\n"
     ]
    },
    {
     "name": "stdout",
     "output_type": "stream",
     "text": [
      "12 - DWI (b=0).dicom\n",
      "Downloading 12 - DWI (b=0).dicom to /home/jovyan/Data/OB0019/2022-05-17 11_33_02/12 - DWI (b=0).dicom\n"
     ]
    },
    {
     "name": "stderr",
     "output_type": "stream",
     "text": [
      "INFO:__main__:Removing PatientBirthDate: 20211105\n",
      "INFO:__main__:Re-uploaded cleaned file: 12 - DWI (b=0).dicom\n"
     ]
    },
    {
     "name": "stdout",
     "output_type": "stream",
     "text": [
      "3 - T2 (AXI) (DL)-NOT FOR DIAGNOSTIC USE.dicom\n",
      "Downloading 3 - T2 (AXI) (DL)-NOT FOR DIAGNOSTIC USE.dicom to /home/jovyan/Data/OB0019/2022-05-17 11_33_02/3 - T2 (AXI) (DL)-NOT FOR DIAGNOSTIC USE.dicom\n"
     ]
    },
    {
     "name": "stderr",
     "output_type": "stream",
     "text": [
      "INFO:__main__:Removing PatientBirthDate: 20211105\n",
      "INFO:__main__:Re-uploaded cleaned file: 3 - T2 (AXI) (DL)-NOT FOR DIAGNOSTIC USE.dicom\n"
     ]
    },
    {
     "name": "stdout",
     "output_type": "stream",
     "text": [
      "6 - T1 (AXI) (DL)-NOT FOR DIAGNOSTIC USE.dicom\n",
      "Downloading 6 - T1 (AXI) (DL)-NOT FOR DIAGNOSTIC USE.dicom to /home/jovyan/Data/OB0019/2022-05-17 11_33_02/6 - T1 (AXI) (DL)-NOT FOR DIAGNOSTIC USE.dicom\n"
     ]
    },
    {
     "name": "stderr",
     "output_type": "stream",
     "text": [
      "INFO:__main__:Removing PatientBirthDate: 20211105\n",
      "INFO:__main__:Re-uploaded cleaned file: 6 - T1 (AXI) (DL)-NOT FOR DIAGNOSTIC USE.dicom\n"
     ]
    },
    {
     "name": "stdout",
     "output_type": "stream",
     "text": [
      "5 - T2-Weighted FSE (SAG) (DL)-NOT FOR DIAGNOSTIC USE.dicom\n",
      "Downloading 5 - T2-Weighted FSE (SAG) (DL)-NOT FOR DIAGNOSTIC USE.dicom to /home/jovyan/Data/OB0019/2022-05-17 11_33_02/5 - T2-Weighted FSE (SAG) (DL)-NOT FOR DIAGNOSTIC USE.dicom\n"
     ]
    },
    {
     "name": "stderr",
     "output_type": "stream",
     "text": [
      "INFO:__main__:Removing PatientBirthDate: 20211105\n",
      "INFO:__main__:Re-uploaded cleaned file: 5 - T2-Weighted FSE (SAG) (DL)-NOT FOR DIAGNOSTIC USE.dicom\n"
     ]
    },
    {
     "name": "stdout",
     "output_type": "stream",
     "text": [
      "7 - FLAIR (AXI) (DL)-NOT FOR DIAGNOSTIC USE.dicom\n",
      "Downloading 7 - FLAIR (AXI) (DL)-NOT FOR DIAGNOSTIC USE.dicom to /home/jovyan/Data/OB0019/2022-05-17 11_33_02/7 - FLAIR (AXI) (DL)-NOT FOR DIAGNOSTIC USE.dicom\n"
     ]
    },
    {
     "name": "stderr",
     "output_type": "stream",
     "text": [
      "INFO:__main__:Removing PatientBirthDate: 20211105\n",
      "INFO:__main__:Re-uploaded cleaned file: 7 - FLAIR (AXI) (DL)-NOT FOR DIAGNOSTIC USE.dicom\n"
     ]
    },
    {
     "name": "stdout",
     "output_type": "stream",
     "text": [
      "8 - T1 (COR) (DL)-NOT FOR DIAGNOSTIC USE.dicom\n",
      "Downloading 8 - T1 (COR) (DL)-NOT FOR DIAGNOSTIC USE.dicom to /home/jovyan/Data/OB0019/2022-05-17 11_33_02/8 - T1 (COR) (DL)-NOT FOR DIAGNOSTIC USE.dicom\n"
     ]
    },
    {
     "name": "stderr",
     "output_type": "stream",
     "text": [
      "INFO:__main__:Removing PatientBirthDate: 20211105\n",
      "INFO:__main__:Re-uploaded cleaned file: 8 - T1 (COR) (DL)-NOT FOR DIAGNOSTIC USE.dicom\n"
     ]
    },
    {
     "name": "stdout",
     "output_type": "stream",
     "text": [
      "9 - T1 (SAG) (DL)-NOT FOR DIAGNOSTIC USE.dicom\n",
      "Downloading 9 - T1 (SAG) (DL)-NOT FOR DIAGNOSTIC USE.dicom to /home/jovyan/Data/OB0019/2022-05-17 11_33_02/9 - T1 (SAG) (DL)-NOT FOR DIAGNOSTIC USE.dicom\n"
     ]
    },
    {
     "name": "stderr",
     "output_type": "stream",
     "text": [
      "INFO:__main__:Removing PatientBirthDate: 20211105\n",
      "INFO:__main__:Re-uploaded cleaned file: 9 - T1 (SAG) (DL)-NOT FOR DIAGNOSTIC USE.dicom\n"
     ]
    },
    {
     "name": "stdout",
     "output_type": "stream",
     "text": [
      "11 - T1 (SAG) (DL)-NOT FOR DIAGNOSTIC USE.dicom\n",
      "Downloading 11 - T1 (SAG) (DL)-NOT FOR DIAGNOSTIC USE.dicom to /home/jovyan/Data/OB024/2022-05-27 11_05_20/11 - T1 (SAG) (DL)-NOT FOR DIAGNOSTIC USE.dicom\n"
     ]
    },
    {
     "name": "stderr",
     "output_type": "stream",
     "text": [
      "INFO:__main__:Removing PatientBirthDate: 20210524\n",
      "INFO:__main__:Re-uploaded cleaned file: 11 - T1 (SAG) (DL)-NOT FOR DIAGNOSTIC USE.dicom\n"
     ]
    },
    {
     "name": "stdout",
     "output_type": "stream",
     "text": [
      "3 - T2 (AXI) (DL)-NOT FOR DIAGNOSTIC USE.dicom\n",
      "Downloading 3 - T2 (AXI) (DL)-NOT FOR DIAGNOSTIC USE.dicom to /home/jovyan/Data/OB024/2022-05-27 11_05_20/3 - T2 (AXI) (DL)-NOT FOR DIAGNOSTIC USE.dicom\n"
     ]
    },
    {
     "name": "stderr",
     "output_type": "stream",
     "text": [
      "INFO:__main__:Removing PatientBirthDate: 20210524\n",
      "INFO:__main__:Re-uploaded cleaned file: 3 - T2 (AXI) (DL)-NOT FOR DIAGNOSTIC USE.dicom\n"
     ]
    },
    {
     "name": "stdout",
     "output_type": "stream",
     "text": [
      "2 - Localizer (Auto Align).dicom\n",
      "Downloading 2 - Localizer (Auto Align).dicom to /home/jovyan/Data/OB024/2022-05-27 11_05_20/2 - Localizer (Auto Align).dicom\n"
     ]
    },
    {
     "name": "stderr",
     "output_type": "stream",
     "text": [
      "INFO:__main__:Removing PatientBirthDate: 20210524\n",
      "INFO:__main__:Re-uploaded cleaned file: 2 - Localizer (Auto Align).dicom\n"
     ]
    },
    {
     "name": "stdout",
     "output_type": "stream",
     "text": [
      "5 - T2-Weighted FSE (COR) (DL)-NOT FOR DIAGNOSTIC USE.dicom\n",
      "Downloading 5 - T2-Weighted FSE (COR) (DL)-NOT FOR DIAGNOSTIC USE.dicom to /home/jovyan/Data/OB024/2022-05-27 11_05_20/5 - T2-Weighted FSE (COR) (DL)-NOT FOR DIAGNOSTIC USE.dicom\n"
     ]
    },
    {
     "name": "stderr",
     "output_type": "stream",
     "text": [
      "INFO:__main__:Removing PatientBirthDate: 20210524\n",
      "INFO:__main__:Re-uploaded cleaned file: 5 - T2-Weighted FSE (COR) (DL)-NOT FOR DIAGNOSTIC USE.dicom\n"
     ]
    },
    {
     "name": "stdout",
     "output_type": "stream",
     "text": [
      "7 - T2-Weighted FSE (SAG) (DL)-NOT FOR DIAGNOSTIC USE.dicom\n",
      "Downloading 7 - T2-Weighted FSE (SAG) (DL)-NOT FOR DIAGNOSTIC USE.dicom to /home/jovyan/Data/OB024/2022-05-27 11_05_20/7 - T2-Weighted FSE (SAG) (DL)-NOT FOR DIAGNOSTIC USE.dicom\n"
     ]
    },
    {
     "name": "stderr",
     "output_type": "stream",
     "text": [
      "INFO:__main__:Removing PatientBirthDate: 20210524\n",
      "INFO:__main__:Re-uploaded cleaned file: 7 - T2-Weighted FSE (SAG) (DL)-NOT FOR DIAGNOSTIC USE.dicom\n"
     ]
    },
    {
     "name": "stdout",
     "output_type": "stream",
     "text": [
      "9 - T1 (AXI) (DL)-NOT FOR DIAGNOSTIC USE.dicom\n",
      "Downloading 9 - T1 (AXI) (DL)-NOT FOR DIAGNOSTIC USE.dicom to /home/jovyan/Data/OB024/2022-05-27 11_05_20/9 - T1 (AXI) (DL)-NOT FOR DIAGNOSTIC USE.dicom\n"
     ]
    },
    {
     "name": "stderr",
     "output_type": "stream",
     "text": [
      "INFO:__main__:Removing PatientBirthDate: 20210524\n",
      "INFO:__main__:Re-uploaded cleaned file: 9 - T1 (AXI) (DL)-NOT FOR DIAGNOSTIC USE.dicom\n"
     ]
    },
    {
     "name": "stdout",
     "output_type": "stream",
     "text": [
      "2 - Localizer (coronal).dicom\n",
      "Downloading 2 - Localizer (coronal).dicom to /home/jovyan/Data/OB140C/2022-07-14 11_09_00/2 - Localizer (coronal).dicom\n"
     ]
    },
    {
     "name": "stderr",
     "output_type": "stream",
     "text": [
      "INFO:__main__:Removing PatientBirthDate: 20210719\n",
      "INFO:__main__:Re-uploaded cleaned file: 2 - Localizer (coronal).dicom\n"
     ]
    },
    {
     "name": "stdout",
     "output_type": "stream",
     "text": [
      "3 - T2 (AXI).dicom\n",
      "Downloading 3 - T2 (AXI).dicom to /home/jovyan/Data/OB140C/2022-07-14 11_09_00/3 - T2 (AXI).dicom\n"
     ]
    },
    {
     "name": "stderr",
     "output_type": "stream",
     "text": [
      "INFO:__main__:Removing PatientBirthDate: 20210719\n",
      "INFO:__main__:Re-uploaded cleaned file: 3 - T2 (AXI).dicom\n"
     ]
    },
    {
     "name": "stdout",
     "output_type": "stream",
     "text": [
      "5 - T2-Weighted FSE (COR).dicom\n",
      "Downloading 5 - T2-Weighted FSE (COR).dicom to /home/jovyan/Data/OB140C/2022-07-14 11_09_00/5 - T2-Weighted FSE (COR).dicom\n"
     ]
    },
    {
     "name": "stderr",
     "output_type": "stream",
     "text": [
      "INFO:__main__:Removing PatientBirthDate: 20210719\n",
      "INFO:__main__:Re-uploaded cleaned file: 5 - T2-Weighted FSE (COR).dicom\n"
     ]
    },
    {
     "name": "stdout",
     "output_type": "stream",
     "text": [
      "9 - T1 (AXI)- Gray_White Contrast.dicom\n",
      "Downloading 9 - T1 (AXI)- Gray_White Contrast.dicom to /home/jovyan/Data/OB140C/2022-07-14 11_09_00/9 - T1 (AXI)- Gray_White Contrast.dicom\n"
     ]
    },
    {
     "name": "stderr",
     "output_type": "stream",
     "text": [
      "INFO:__main__:Removing PatientBirthDate: 20210719\n",
      "INFO:__main__:Re-uploaded cleaned file: 9 - T1 (AXI)- Gray_White Contrast.dicom\n"
     ]
    },
    {
     "name": "stdout",
     "output_type": "stream",
     "text": [
      "7 - T2-Weighted FSE (SAG).dicom\n",
      "Downloading 7 - T2-Weighted FSE (SAG).dicom to /home/jovyan/Data/OB140C/2022-07-14 11_09_00/7 - T2-Weighted FSE (SAG).dicom\n"
     ]
    },
    {
     "name": "stderr",
     "output_type": "stream",
     "text": [
      "INFO:__main__:Removing PatientBirthDate: 20210719\n",
      "INFO:__main__:Re-uploaded cleaned file: 7 - T2-Weighted FSE (SAG).dicom\n"
     ]
    },
    {
     "name": "stdout",
     "output_type": "stream",
     "text": [
      "2 - T2 (AXI, Fast).dicom\n",
      "Downloading 2 - T2 (AXI, Fast).dicom to /home/jovyan/Data/RTT01029C/2023-01-11 13_52_21/2 - T2 (AXI, Fast).dicom\n"
     ]
    },
    {
     "name": "stderr",
     "output_type": "stream",
     "text": [
      "INFO:__main__:Removing PatientBirthDate: \n",
      "INFO:__main__:Re-uploaded cleaned file: 2 - T2 (AXI, Fast).dicom\n"
     ]
    },
    {
     "name": "stdout",
     "output_type": "stream",
     "text": [
      "4 - T2 (COR, Fast).dicom\n",
      "Downloading 4 - T2 (COR, Fast).dicom to /home/jovyan/Data/RTT01029C/2023-10-17 11_57_03/4 - T2 (COR, Fast).dicom\n"
     ]
    },
    {
     "name": "stderr",
     "output_type": "stream",
     "text": [
      "INFO:__main__:Removing PatientBirthDate: \n",
      "INFO:__main__:Re-uploaded cleaned file: 4 - T2 (COR, Fast).dicom\n"
     ]
    },
    {
     "name": "stdout",
     "output_type": "stream",
     "text": [
      "6 - T1 (AXI)- Standard.dicom\n",
      "Downloading 6 - T1 (AXI)- Standard.dicom to /home/jovyan/Data/RTT01029C/2023-10-17 11_57_03/6 - T1 (AXI)- Standard.dicom\n"
     ]
    },
    {
     "name": "stderr",
     "output_type": "stream",
     "text": [
      "INFO:__main__:Removing PatientBirthDate: \n",
      "INFO:__main__:Re-uploaded cleaned file: 6 - T1 (AXI)- Standard.dicom\n"
     ]
    },
    {
     "name": "stdout",
     "output_type": "stream",
     "text": [
      "3 - T2 (AXI, Fast).dicom\n",
      "Downloading 3 - T2 (AXI, Fast).dicom to /home/jovyan/Data/RTT01029C/2023-10-17 11_57_03/3 - T2 (AXI, Fast).dicom\n"
     ]
    },
    {
     "name": "stderr",
     "output_type": "stream",
     "text": [
      "INFO:__main__:Removing PatientBirthDate: \n",
      "INFO:__main__:Re-uploaded cleaned file: 3 - T2 (AXI, Fast).dicom\n"
     ]
    },
    {
     "name": "stdout",
     "output_type": "stream",
     "text": [
      "5 - T2 (SAG, Fast).dicom\n",
      "Downloading 5 - T2 (SAG, Fast).dicom to /home/jovyan/Data/RTT01029C/2023-10-17 11_57_03/5 - T2 (SAG, Fast).dicom\n"
     ]
    },
    {
     "name": "stderr",
     "output_type": "stream",
     "text": [
      "INFO:__main__:Removing PatientBirthDate: \n",
      "INFO:__main__:Re-uploaded cleaned file: 5 - T2 (SAG, Fast).dicom\n"
     ]
    },
    {
     "name": "stdout",
     "output_type": "stream",
     "text": [
      "3 - T2 (AXI).dicom\n",
      "Downloading 3 - T2 (AXI).dicom to /home/jovyan/Data/0B0104/2022-07-07 14_21_49/3 - T2 (AXI).dicom\n"
     ]
    },
    {
     "name": "stderr",
     "output_type": "stream",
     "text": [
      "INFO:__main__:Removing PatientBirthDate: 20211007\n",
      "INFO:__main__:Re-uploaded cleaned file: 3 - T2 (AXI).dicom\n"
     ]
    },
    {
     "name": "stdout",
     "output_type": "stream",
     "text": [
      "2 - Localizer (coronal).dicom\n",
      "Downloading 2 - Localizer (coronal).dicom to /home/jovyan/Data/0B0104/2022-07-07 14_21_49/2 - Localizer (coronal).dicom\n"
     ]
    },
    {
     "name": "stderr",
     "output_type": "stream",
     "text": [
      "INFO:__main__:Removing PatientBirthDate: 20211007\n",
      "INFO:__main__:Re-uploaded cleaned file: 2 - Localizer (coronal).dicom\n"
     ]
    },
    {
     "name": "stdout",
     "output_type": "stream",
     "text": [
      "5 - T2-Weighted FSE (COR).dicom\n",
      "Downloading 5 - T2-Weighted FSE (COR).dicom to /home/jovyan/Data/0B0104/2022-07-07 14_21_49/5 - T2-Weighted FSE (COR).dicom\n"
     ]
    },
    {
     "name": "stderr",
     "output_type": "stream",
     "text": [
      "INFO:__main__:Removing PatientBirthDate: 20211007\n",
      "INFO:__main__:Re-uploaded cleaned file: 5 - T2-Weighted FSE (COR).dicom\n"
     ]
    },
    {
     "name": "stdout",
     "output_type": "stream",
     "text": [
      "7 - T2-Weighted FSE (SAG).dicom\n",
      "Downloading 7 - T2-Weighted FSE (SAG).dicom to /home/jovyan/Data/0B0104/2022-07-07 14_21_49/7 - T2-Weighted FSE (SAG).dicom\n"
     ]
    },
    {
     "name": "stderr",
     "output_type": "stream",
     "text": [
      "INFO:__main__:Removing PatientBirthDate: 20211007\n",
      "INFO:__main__:Re-uploaded cleaned file: 7 - T2-Weighted FSE (SAG).dicom\n"
     ]
    },
    {
     "name": "stdout",
     "output_type": "stream",
     "text": [
      "9 - T1 (AXI)- Gray_White Contrast.dicom\n",
      "Downloading 9 - T1 (AXI)- Gray_White Contrast.dicom to /home/jovyan/Data/0B0104/2022-07-07 14_21_49/9 - T1 (AXI)- Gray_White Contrast.dicom\n"
     ]
    },
    {
     "name": "stderr",
     "output_type": "stream",
     "text": [
      "INFO:__main__:Removing PatientBirthDate: 20211007\n",
      "INFO:__main__:Re-uploaded cleaned file: 9 - T1 (AXI)- Gray_White Contrast.dicom\n"
     ]
    },
    {
     "name": "stdout",
     "output_type": "stream",
     "text": [
      "11 - FLAIR (COR).dicom\n",
      "Downloading 11 - FLAIR (COR).dicom to /home/jovyan/Data/0B170/2022-07-19 14_15_38/11 - FLAIR (COR).dicom\n"
     ]
    },
    {
     "name": "stderr",
     "output_type": "stream",
     "text": [
      "INFO:__main__:Removing PatientBirthDate: 20210723\n",
      "INFO:__main__:Re-uploaded cleaned file: 11 - FLAIR (COR).dicom\n"
     ]
    },
    {
     "name": "stdout",
     "output_type": "stream",
     "text": [
      "3 - T2 (AXI).dicom\n",
      "Downloading 3 - T2 (AXI).dicom to /home/jovyan/Data/0B170/2022-07-19 14_15_38/3 - T2 (AXI).dicom\n"
     ]
    },
    {
     "name": "stderr",
     "output_type": "stream",
     "text": [
      "INFO:__main__:Removing PatientBirthDate: 20210723\n",
      "INFO:__main__:Re-uploaded cleaned file: 3 - T2 (AXI).dicom\n"
     ]
    },
    {
     "name": "stdout",
     "output_type": "stream",
     "text": [
      "2 - Localizer (coronal).dicom\n",
      "Downloading 2 - Localizer (coronal).dicom to /home/jovyan/Data/0B170/2022-07-19 14_15_38/2 - Localizer (coronal).dicom\n"
     ]
    },
    {
     "name": "stderr",
     "output_type": "stream",
     "text": [
      "INFO:__main__:Removing PatientBirthDate: 20210723\n",
      "INFO:__main__:Re-uploaded cleaned file: 2 - Localizer (coronal).dicom\n"
     ]
    },
    {
     "name": "stdout",
     "output_type": "stream",
     "text": [
      "7 - T2-Weighted FSE (SAG).dicom\n",
      "Downloading 7 - T2-Weighted FSE (SAG).dicom to /home/jovyan/Data/0B170/2022-07-19 14_15_38/7 - T2-Weighted FSE (SAG).dicom\n"
     ]
    },
    {
     "name": "stderr",
     "output_type": "stream",
     "text": [
      "INFO:__main__:Removing PatientBirthDate: 20210723\n",
      "INFO:__main__:Re-uploaded cleaned file: 7 - T2-Weighted FSE (SAG).dicom\n"
     ]
    },
    {
     "name": "stdout",
     "output_type": "stream",
     "text": [
      "9 - T1 (AXI)- Gray_White Contrast.dicom\n",
      "Downloading 9 - T1 (AXI)- Gray_White Contrast.dicom to /home/jovyan/Data/0B170/2022-07-19 14_15_38/9 - T1 (AXI)- Gray_White Contrast.dicom\n"
     ]
    },
    {
     "name": "stderr",
     "output_type": "stream",
     "text": [
      "INFO:__main__:Removing PatientBirthDate: 20210723\n",
      "INFO:__main__:Re-uploaded cleaned file: 9 - T1 (AXI)- Gray_White Contrast.dicom\n"
     ]
    },
    {
     "name": "stdout",
     "output_type": "stream",
     "text": [
      "5 - T2-Weighted FSE (COR).dicom\n",
      "Downloading 5 - T2-Weighted FSE (COR).dicom to /home/jovyan/Data/0B170/2022-07-19 14_15_38/5 - T2-Weighted FSE (COR).dicom\n"
     ]
    },
    {
     "name": "stderr",
     "output_type": "stream",
     "text": [
      "INFO:__main__:Removing PatientBirthDate: 20210723\n",
      "INFO:__main__:Re-uploaded cleaned file: 5 - T2-Weighted FSE (COR).dicom\n"
     ]
    },
    {
     "name": "stdout",
     "output_type": "stream",
     "text": [
      "3 - T2 (AXI).dicom\n",
      "Downloading 3 - T2 (AXI).dicom to /home/jovyan/Data/OB0118/2022-06-28 13_34_18/3 - T2 (AXI).dicom\n"
     ]
    },
    {
     "name": "stderr",
     "output_type": "stream",
     "text": [
      "INFO:__main__:Removing PatientBirthDate: 20210628\n",
      "INFO:__main__:Re-uploaded cleaned file: 3 - T2 (AXI).dicom\n"
     ]
    },
    {
     "name": "stdout",
     "output_type": "stream",
     "text": [
      "2 - Localizer (Auto Align).dicom\n",
      "Downloading 2 - Localizer (Auto Align).dicom to /home/jovyan/Data/OB0118/2022-06-28 13_34_18/2 - Localizer (Auto Align).dicom\n"
     ]
    },
    {
     "name": "stderr",
     "output_type": "stream",
     "text": [
      "INFO:__main__:Removing PatientBirthDate: 20210628\n",
      "INFO:__main__:Re-uploaded cleaned file: 2 - Localizer (Auto Align).dicom\n"
     ]
    },
    {
     "name": "stdout",
     "output_type": "stream",
     "text": [
      "5 - T2-Weighted FSE (COR).dicom\n",
      "Downloading 5 - T2-Weighted FSE (COR).dicom to /home/jovyan/Data/OB0118/2022-06-28 13_34_18/5 - T2-Weighted FSE (COR).dicom\n"
     ]
    },
    {
     "name": "stderr",
     "output_type": "stream",
     "text": [
      "INFO:__main__:Removing PatientBirthDate: 20210628\n",
      "INFO:__main__:Re-uploaded cleaned file: 5 - T2-Weighted FSE (COR).dicom\n"
     ]
    },
    {
     "name": "stdout",
     "output_type": "stream",
     "text": [
      "7 - T2-Weighted FSE (SAG).dicom\n",
      "Downloading 7 - T2-Weighted FSE (SAG).dicom to /home/jovyan/Data/OB0118/2022-06-28 13_34_18/7 - T2-Weighted FSE (SAG).dicom\n"
     ]
    },
    {
     "name": "stderr",
     "output_type": "stream",
     "text": [
      "INFO:__main__:Removing PatientBirthDate: 20210628\n",
      "INFO:__main__:Re-uploaded cleaned file: 7 - T2-Weighted FSE (SAG).dicom\n"
     ]
    },
    {
     "name": "stdout",
     "output_type": "stream",
     "text": [
      "9 - T1 (AXI)- Gray_White Contrast.dicom\n",
      "Downloading 9 - T1 (AXI)- Gray_White Contrast.dicom to /home/jovyan/Data/OB0118/2022-06-28 13_34_18/9 - T1 (AXI)- Gray_White Contrast.dicom\n"
     ]
    },
    {
     "name": "stderr",
     "output_type": "stream",
     "text": [
      "INFO:__main__:Removing PatientBirthDate: 20210628\n",
      "INFO:__main__:Re-uploaded cleaned file: 9 - T1 (AXI)- Gray_White Contrast.dicom\n"
     ]
    },
    {
     "name": "stdout",
     "output_type": "stream",
     "text": [
      "2 - T2 (AXI) (DL)-NOT FOR DIAGNOSTIC USE.dicom\n",
      "Downloading 2 - T2 (AXI) (DL)-NOT FOR DIAGNOSTIC USE.dicom to /home/jovyan/Data/OB031/2022-05-23 11_20_44/2 - T2 (AXI) (DL)-NOT FOR DIAGNOSTIC USE.dicom\n"
     ]
    },
    {
     "name": "stderr",
     "output_type": "stream",
     "text": [
      "INFO:__main__:Removing PatientBirthDate: 20210524\n",
      "INFO:__main__:Re-uploaded cleaned file: 2 - T2 (AXI) (DL)-NOT FOR DIAGNOSTIC USE.dicom\n"
     ]
    },
    {
     "name": "stdout",
     "output_type": "stream",
     "text": [
      "4 - T2-Weighted FSE (COR) (DL)-NOT FOR DIAGNOSTIC USE.dicom\n",
      "Downloading 4 - T2-Weighted FSE (COR) (DL)-NOT FOR DIAGNOSTIC USE.dicom to /home/jovyan/Data/OB031/2022-05-23 11_20_44/4 - T2-Weighted FSE (COR) (DL)-NOT FOR DIAGNOSTIC USE.dicom\n"
     ]
    },
    {
     "name": "stderr",
     "output_type": "stream",
     "text": [
      "INFO:__main__:Removing PatientBirthDate: 20210524\n",
      "INFO:__main__:Re-uploaded cleaned file: 4 - T2-Weighted FSE (COR) (DL)-NOT FOR DIAGNOSTIC USE.dicom\n"
     ]
    },
    {
     "name": "stdout",
     "output_type": "stream",
     "text": [
      "3 - Localizer (coronal).dicom\n",
      "Downloading 3 - Localizer (coronal).dicom to /home/jovyan/Data/OB031/2022-05-23 11_20_44/3 - Localizer (coronal).dicom\n"
     ]
    },
    {
     "name": "stderr",
     "output_type": "stream",
     "text": [
      "INFO:__main__:Removing PatientBirthDate: 20210524\n",
      "INFO:__main__:Re-uploaded cleaned file: 3 - Localizer (coronal).dicom\n"
     ]
    },
    {
     "name": "stdout",
     "output_type": "stream",
     "text": [
      "6 - T1 (AXI) (DL)-NOT FOR DIAGNOSTIC USE.dicom\n",
      "Downloading 6 - T1 (AXI) (DL)-NOT FOR DIAGNOSTIC USE.dicom to /home/jovyan/Data/OB031/2022-05-23 11_20_44/6 - T1 (AXI) (DL)-NOT FOR DIAGNOSTIC USE.dicom\n"
     ]
    },
    {
     "name": "stderr",
     "output_type": "stream",
     "text": [
      "INFO:__main__:Removing PatientBirthDate: 20210524\n",
      "INFO:__main__:Re-uploaded cleaned file: 6 - T1 (AXI) (DL)-NOT FOR DIAGNOSTIC USE.dicom\n"
     ]
    },
    {
     "name": "stdout",
     "output_type": "stream",
     "text": [
      "5 - T2-Weighted FSE (SAG) (DL)-NOT FOR DIAGNOSTIC USE.dicom\n",
      "Downloading 5 - T2-Weighted FSE (SAG) (DL)-NOT FOR DIAGNOSTIC USE.dicom to /home/jovyan/Data/OB031/2022-05-23 11_20_44/5 - T2-Weighted FSE (SAG) (DL)-NOT FOR DIAGNOSTIC USE.dicom\n"
     ]
    },
    {
     "name": "stderr",
     "output_type": "stream",
     "text": [
      "INFO:__main__:Removing PatientBirthDate: 20210524\n",
      "INFO:__main__:Re-uploaded cleaned file: 5 - T2-Weighted FSE (SAG) (DL)-NOT FOR DIAGNOSTIC USE.dicom\n"
     ]
    },
    {
     "name": "stdout",
     "output_type": "stream",
     "text": [
      "7 - FLAIR (AXI) (DL)-NOT FOR DIAGNOSTIC USE.dicom\n",
      "Downloading 7 - FLAIR (AXI) (DL)-NOT FOR DIAGNOSTIC USE.dicom to /home/jovyan/Data/OB031/2022-05-23 11_20_44/7 - FLAIR (AXI) (DL)-NOT FOR DIAGNOSTIC USE.dicom\n"
     ]
    },
    {
     "name": "stderr",
     "output_type": "stream",
     "text": [
      "INFO:__main__:Removing PatientBirthDate: 20210524\n",
      "INFO:__main__:Re-uploaded cleaned file: 7 - FLAIR (AXI) (DL)-NOT FOR DIAGNOSTIC USE.dicom\n"
     ]
    },
    {
     "name": "stdout",
     "output_type": "stream",
     "text": [
      "2 - Localizer (Auto Align).dicom\n",
      "Downloading 2 - Localizer (Auto Align).dicom to /home/jovyan/Data/OB040/2022-05-31 12_42_15/2 - Localizer (Auto Align).dicom\n"
     ]
    },
    {
     "name": "stderr",
     "output_type": "stream",
     "text": [
      "INFO:__main__:Removing PatientBirthDate: 20210527\n",
      "INFO:__main__:Re-uploaded cleaned file: 2 - Localizer (Auto Align).dicom\n"
     ]
    },
    {
     "name": "stdout",
     "output_type": "stream",
     "text": [
      "3 - T2 (AXI) (DL)-NOT FOR DIAGNOSTIC USE.dicom\n",
      "Downloading 3 - T2 (AXI) (DL)-NOT FOR DIAGNOSTIC USE.dicom to /home/jovyan/Data/OB040/2022-05-31 12_42_15/3 - T2 (AXI) (DL)-NOT FOR DIAGNOSTIC USE.dicom\n"
     ]
    },
    {
     "name": "stderr",
     "output_type": "stream",
     "text": [
      "INFO:__main__:Removing PatientBirthDate: 20210527\n",
      "INFO:__main__:Re-uploaded cleaned file: 3 - T2 (AXI) (DL)-NOT FOR DIAGNOSTIC USE.dicom\n"
     ]
    },
    {
     "name": "stdout",
     "output_type": "stream",
     "text": [
      "2 - Localizer (Auto Align).dicom\n",
      "Downloading 2 - Localizer (Auto Align).dicom to /home/jovyan/Data/OB044/2022-05-09 11_24_47/2 - Localizer (Auto Align).dicom\n"
     ]
    },
    {
     "name": "stderr",
     "output_type": "stream",
     "text": [
      "INFO:__main__:Removing PatientBirthDate: 20210205\n",
      "INFO:__main__:Re-uploaded cleaned file: 2 - Localizer (Auto Align).dicom\n"
     ]
    },
    {
     "name": "stdout",
     "output_type": "stream",
     "text": [
      "4 - T2-Weighted FSE (COR) (DL)-NOT FOR DIAGNOSTIC USE.dicom\n",
      "Downloading 4 - T2-Weighted FSE (COR) (DL)-NOT FOR DIAGNOSTIC USE.dicom to /home/jovyan/Data/OB044/2022-05-09 11_24_47/4 - T2-Weighted FSE (COR) (DL)-NOT FOR DIAGNOSTIC USE.dicom\n"
     ]
    },
    {
     "name": "stderr",
     "output_type": "stream",
     "text": [
      "INFO:__main__:Removing PatientBirthDate: 20210205\n",
      "INFO:__main__:Re-uploaded cleaned file: 4 - T2-Weighted FSE (COR) (DL)-NOT FOR DIAGNOSTIC USE.dicom\n"
     ]
    },
    {
     "name": "stdout",
     "output_type": "stream",
     "text": [
      "3 - T2 (AXI) (DL)-NOT FOR DIAGNOSTIC USE.dicom\n",
      "Downloading 3 - T2 (AXI) (DL)-NOT FOR DIAGNOSTIC USE.dicom to /home/jovyan/Data/OB044/2022-05-09 11_24_47/3 - T2 (AXI) (DL)-NOT FOR DIAGNOSTIC USE.dicom\n"
     ]
    },
    {
     "name": "stderr",
     "output_type": "stream",
     "text": [
      "INFO:__main__:Removing PatientBirthDate: 20210205\n",
      "INFO:__main__:Re-uploaded cleaned file: 3 - T2 (AXI) (DL)-NOT FOR DIAGNOSTIC USE.dicom\n"
     ]
    },
    {
     "name": "stdout",
     "output_type": "stream",
     "text": [
      "5 - T2-Weighted FSE (SAG) (DL)-NOT FOR DIAGNOSTIC USE.dicom\n",
      "Downloading 5 - T2-Weighted FSE (SAG) (DL)-NOT FOR DIAGNOSTIC USE.dicom to /home/jovyan/Data/OB044/2022-05-09 11_24_47/5 - T2-Weighted FSE (SAG) (DL)-NOT FOR DIAGNOSTIC USE.dicom\n"
     ]
    },
    {
     "name": "stderr",
     "output_type": "stream",
     "text": [
      "INFO:__main__:Removing PatientBirthDate: 20210205\n"
     ]
    }
   ],
   "source": [
    "import flywheel\n",
    "import tempfile\n",
    "import os\n",
    "import time\n",
    "from pathlib import Path\n",
    "import pydicom\n",
    "\n",
    "# get the start time\n",
    "st = time.time()\n",
    "\n",
    "project = fw_project\n",
    "\n",
    "# Create a work directory in our local \"home\" directory\n",
    "work_dir = Path(Path.home()/'Data/', platform='auto')\n",
    "# If it doesn't exist, create it\n",
    "if not work_dir.exists():\n",
    "    work_dir.mkdir(parents = True)\n",
    "\n",
    "# Loop over subjects → sessions → acquisitions\n",
    "for subject in project.subjects.iter():\n",
    "    # if subject.label == '':\n",
    "        for session in subject.sessions.iter():\n",
    "            for acq in session.acquisitions.iter():\n",
    "                # Work on each DICOM file\n",
    "                for file in acq.files:\n",
    "                    file = file.reload()\n",
    "                    if file.type == 'dicom':\n",
    "                        # 1) Download into a temp dir\n",
    "                        print(file.name)\n",
    "                        data_dir = Path(work_dir/subject.label/session.label, platform='auto')\n",
    "                        # If it doesn't exist, create it\n",
    "                        if not data_dir.exists():\n",
    "                            data_dir.mkdir(parents = True)\n",
    "\n",
    "                        download_path = os.path.join(data_dir, file.name)\n",
    "                        print(f\"Downloading {file.name} to {download_path}\")\n",
    "                        file.download(download_path)\n",
    "\n",
    "                        clean_and_replace_dicom(acq, file, download_path)\n",
    "\n",
    "\n",
    "# get the end time\n",
    "et = time.time()\n",
    "# get the execution time\n",
    "elapsed_time = et - st\n",
    "print('Execution time:', elapsed_time, 'seconds')"
   ]
  },
  {
   "cell_type": "code",
   "execution_count": null,
   "id": "b19103ee-10d5-4e9f-af1b-97461947d376",
   "metadata": {},
   "outputs": [],
   "source": []
  }
 ],
 "metadata": {
  "kernelspec": {
   "display_name": "Python 3 (ipykernel)",
   "language": "python",
   "name": "python3"
  },
  "language_info": {
   "codemirror_mode": {
    "name": "ipython",
    "version": 3
   },
   "file_extension": ".py",
   "mimetype": "text/x-python",
   "name": "python",
   "nbconvert_exporter": "python",
   "pygments_lexer": "ipython3",
   "version": "3.10.10"
  }
 },
 "nbformat": 4,
 "nbformat_minor": 5
}
